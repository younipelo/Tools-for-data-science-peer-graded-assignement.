{
 "cells": [
  {
   "cell_type": "markdown",
   "id": "79382325-df54-4431-bb60-71e103e18747",
   "metadata": {
    "tags": []
   },
   "source": [
    "# Data Science Tools and Ecosystem"
   ]
  },
  {
   "cell_type": "markdown",
   "id": "e91df528-0feb-4e2f-88f7-c4fa81a671a2",
   "metadata": {
    "tags": []
   },
   "source": [
    "In this notebook, Data Science Tools and Ecosystem are summarized."
   ]
  },
  {
   "cell_type": "markdown",
   "id": "255a4b4a-1f01-4a11-8b7f-7e4b5f71433c",
   "metadata": {},
   "source": [
    "**Objectives:**\n",
    "1. Learning what a markdown cell is.\n",
    "2. Writing lists such as this one.\n",
    "3. Creating tables.\n",
    "4. Writing some arithmetic expressions."
   ]
  },
  {
   "cell_type": "markdown",
   "id": "56b26a01-768e-49cd-b39c-89386021eeb7",
   "metadata": {},
   "source": [
    "Some of the popular languages that Data Scientists use are:\n",
    "1. Python.\n",
    "2. Javascript.\n",
    "3. C++."
   ]
  },
  {
   "cell_type": "markdown",
   "id": "4e711077-1c00-41f6-9e84-e0f644b128bb",
   "metadata": {},
   "source": [
    "Some of the commonly used libraries used by Data Scientists include:\n",
    "1. PyTorch.\n",
    "2. TensorFlow.\n",
    "3. Scikit-learn."
   ]
  },
  {
   "cell_type": "markdown",
   "id": "bb3a1ee7-2960-4217-a04d-0d44fc51092f",
   "metadata": {},
   "source": [
    "| Data Science Tools|\n",
    "| ------------------|\n",
    "| Python            |\n",
    "| Apache Spark      |\n",
    "| Project Jupyter   |"
   ]
  },
  {
   "cell_type": "markdown",
   "id": "1743781d-c2ee-4e99-80f1-8bea37e95331",
   "metadata": {
    "tags": []
   },
   "source": [
    "### Below are a few examples of evaluating arithmetic expressions in Python:"
   ]
  },
  {
   "cell_type": "code",
   "execution_count": 3,
   "id": "cc8ab643-5c49-4c1d-bf89-e736a79411d9",
   "metadata": {
    "tags": []
   },
   "outputs": [
    {
     "data": {
      "text/plain": [
       "17"
      ]
     },
     "execution_count": 3,
     "metadata": {},
     "output_type": "execute_result"
    }
   ],
   "source": [
    "#This a simple arithmetic expression to mutiply then add integers\n",
    "(3*4)+5"
   ]
  },
  {
   "cell_type": "code",
   "execution_count": 4,
   "id": "49f1d5b3-3731-49bd-899f-b4d6f4ac712d",
   "metadata": {
    "tags": []
   },
   "outputs": [
    {
     "data": {
      "text/plain": [
       "3.3333333333333335"
      ]
     },
     "execution_count": 4,
     "metadata": {},
     "output_type": "execute_result"
    }
   ],
   "source": [
    "#This will convert 200 minutes to hours by diving by 60\n",
    "200/60"
   ]
  },
  {
   "cell_type": "markdown",
   "id": "62880a14-03ea-426d-8c0a-95bb32a0cd25",
   "metadata": {
    "tags": []
   },
   "source": [
    "## Author\n",
    "Belqadi Younes"
   ]
  }
 ],
 "metadata": {
  "kernelspec": {
   "display_name": "Python",
   "language": "python",
   "name": "conda-env-python-py"
  },
  "language_info": {
   "codemirror_mode": {
    "name": "ipython",
    "version": 3
   },
   "file_extension": ".py",
   "mimetype": "text/x-python",
   "name": "python",
   "nbconvert_exporter": "python",
   "pygments_lexer": "ipython3",
   "version": "3.7.12"
  }
 },
 "nbformat": 4,
 "nbformat_minor": 5
}
